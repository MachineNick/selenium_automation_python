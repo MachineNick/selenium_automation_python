{
 "cells": [
  {
   "cell_type": "code",
   "execution_count": 34,
   "id": "07207643-c713-4d1a-a538-be1ab330651d",
   "metadata": {},
   "outputs": [
    {
     "name": "stdout",
     "output_type": "stream",
     "text": [
      "Number of replies is not more than 50.\n"
     ]
    }
   ],
   "source": [
    "from selenium import webdriver\n",
    "from selenium.webdriver.common.by import By\n",
    "import requests\n",
    "import time\n",
    "\n",
    "import re\n",
    "#url = \"https://support.google.com/\"\n",
    "#r = request.get(url)\n",
    "#print(r)\n",
    "\n",
    "driver = webdriver.Chrome()\n",
    "\n",
    "driver.get(\"https://support.google.com/\")\n",
    "driver.maximize_window()\n",
    "\n",
    "\n",
    "elem = driver.find_element(By.XPATH,'/html/body/div[2]/div/section/div/div[1]/article/div/section[1]/ul/li[1]/a')\n",
    "time.sleep(3)\n",
    "elem.click()\n",
    "#click community\n",
    "community = driver.find_element(By.XPATH,'/html/body/div[2]/header/div[3]/div/div/div/div/div[1]/ul/li[2]')\n",
    "time.sleep(2)\n",
    "community.click()\n",
    "#click view_all\n",
    "view_all = driver.find_element(By.XPATH,'/html/body/div[2]/div/section/div/div[1]/article/div/div[4]/a')\n",
    "time.sleep(2)\n",
    "view_all.click()\n",
    "#filtering for 7 day\n",
    "filter = driver.find_element(By.XPATH,'/html/body/div[2]/div/section/div/div[1]/article/div[7]/div[3]/form/div[6]/div[2]/div/div/input')\n",
    "filter.click()\n",
    "#viewmore\n",
    "view_more = driver.find_element(By.XPATH,'/html/body/div[2]/div/section/div/div[1]/article/div[7]/div[2]/div[8]/button')\n",
    "\n",
    "view_more.click()\n",
    "time.sleep(3)\n",
    "view_more.click()\n",
    "time.sleep(3)\n",
    "view_more.click()\n",
    "time.sleep(3)\n",
    "#replies\n",
    "# Find the element with the specified XPath\n",
    "reply_element = driver.find_element(By.XPATH, \"/html/body/div[2]/div/section/div/div[1]/article/div[7]/div[2]/div[2]/div[2]/a[12]/span[2]/span[2]/div/span[3]\")\n",
    "\n",
    "# Extract the text from the element\n",
    "reply_text = reply_element.text\n",
    "\n",
    "# Use regular expressions to extract the numeric part from the text\n",
    "numeric_part = re.search(r'\\d+', reply_text)\n",
    "\n",
    "if numeric_part:\n",
    "    reply_count = int(numeric_part.group())\n",
    "    \n",
    "    # Check if the number of replies is more than 50\n",
    "    if reply_count > 50:\n",
    "        print(\"Number of replies is more than 50.\")\n",
    "    else:\n",
    "        print(\"Number of replies is not more than 50.\")\n",
    "else:\n",
    "    print(\"Could not find a numeric count of replies.\")\n",
    "\n",
    "# Close the browser\n",
    "driver.quit()"
   ]
  },
  {
   "cell_type": "raw",
   "id": "7391428a-e7c6-4f92-91fa-7f8f8da6db92",
   "metadata": {},
   "source": []
  },
  {
   "cell_type": "code",
   "execution_count": null,
   "id": "60eafe0c-079f-4d86-b452-66e96abe42f9",
   "metadata": {},
   "outputs": [],
   "source": []
  },
  {
   "cell_type": "code",
   "execution_count": null,
   "id": "609915cb-bfd7-41a6-b5c1-d9c8f8e2bc0a",
   "metadata": {},
   "outputs": [],
   "source": []
  }
 ],
 "metadata": {
  "kernelspec": {
   "display_name": "Python 3 (ipykernel)",
   "language": "python",
   "name": "python3"
  },
  "language_info": {
   "codemirror_mode": {
    "name": "ipython",
    "version": 3
   },
   "file_extension": ".py",
   "mimetype": "text/x-python",
   "name": "python",
   "nbconvert_exporter": "python",
   "pygments_lexer": "ipython3",
   "version": "3.11.0"
  }
 },
 "nbformat": 4,
 "nbformat_minor": 5
}
